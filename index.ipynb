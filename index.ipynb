{
 "cells": [
  {
   "cell_type": "markdown",
   "metadata": {},
   "source": [
    "# Data Visualization\n",
    "\n",
    "## Introduction\n",
    "\n",
    "This lesson introduces data visualization using Python and the popular Matplotlib plotting library. You will explore the fundamental features of Matplotlib plots and how to use them for creating and labeling visualizations. \n",
    "\n",
    "## Objectives\n",
    "You will be able to:\n",
    "* Understand the purpose of scatter plots, bar graphs, and histograms\n",
    "* Use Matplotlib to create plots\n",
    "\n",
    "## Data Visualization with Python\n",
    "\n",
    "In a traditional math class, data visualization looks something like this:\n",
    "\n",
    "<a title=\"Asimzb, CC BY 3.0 &lt;https://creativecommons.org/licenses/by/3.0&gt;, via Wikimedia Commons\" href=\"https://commons.wikimedia.org/wiki/File:TI-84_Plus_graphing.jpg\"><img width=\"150\" alt=\"TI-84 Plus graphing\" src=\"https://upload.wikimedia.org/wikipedia/commons/thumb/2/2d/TI-84_Plus_graphing.jpg/256px-TI-84_Plus_graphing.jpg\"></a>\n",
    "\n",
    "With Matplotlib, it looks something like this:\n",
    "\n",
    "![example graphs from matplotlib](https://matplotlib.org/_images/sphx_glr_style_sheets_reference_001.png)\n",
    "\n",
    "From Matplotlib's [website](https://matplotlib.org/index.html):\n",
    "\n",
    "> Matplotlib makes easy things easy and hard things possible.\n",
    "\n",
    "In this lesson we'll be showing you a lot of new syntax, reviewing some of the most essential types of plots, and demonstrating how to create them with Matplotlib.\n",
    "\n",
    "## Matplotlib Plotting Library\n",
    "\n",
    "The Matplotlib plotting library provides a range of built in functions to start visualizing data with minimal effort. \n",
    "\n",
    "First, import `matplotlib`'s `pyplot` module (a module is a unit of prewritten code that you can use in your projects) into your working environment. We will use the standard alias of `plt` for `pyplot`.\n",
    "\n",
    "In Jupyter notebooks, you can use the `%matplotlib` \"magic command\" with `inline` to show plots inside the notebook or `qt` for external plots. The `inline` option is recommended for most requirements (external plots are suitable for interactive visualizations).  "
   ]
  },
  {
   "cell_type": "code",
   "execution_count": 1,
   "metadata": {},
   "outputs": [],
   "source": [
    "# Import pyplot for plotting\n",
    "import matplotlib.pyplot as plt\n",
    "\n",
    "%matplotlib inline"
   ]
  },
  {
   "cell_type": "markdown",
   "metadata": {},
   "source": [
    "Before we actually plot any data, let's set up a *figure* named `fig` and an *axes* named `ax`. By default, it will show an empty plot with X and Y axes ranging from 0 to 1.\n",
    "\n",
    "(Yes, the term in Matplotlib is \"an axes\", we know it's a bit odd to say! We'll cover more of the features of the figure vs. the axes in a future lesson on customizing visualizations.)"
   ]
  },
  {
   "cell_type": "code",
   "execution_count": 2,
   "metadata": {},
   "outputs": [
    {
     "data": {
      "image/png": "[encoded data removed]",
      "text/plain": [
       "<Figure size 432x288 with 1 Axes>"
      ]
     },
     "metadata": {
      "needs_background": "light"
     },
     "output_type": "display_data"
    }
   ],
   "source": [
    "fig, ax = plt.subplots()"
   ]
  },
  {
   "cell_type": "markdown",
   "metadata": {},
   "source": [
    "## NumPy for Generating Dummy Data\n",
    "\n",
    "We will use `numpy` (one of the most popular Python libraries for scientific computing) to create some sample data. NumPy provides useful tools for generating dummy data for visualizations, but don't worry too much about the NumPy code here — NumPy is being used as a teaching tool to help you learn to use Matplotlib.\n",
    "\n",
    "Let's start by creating two NumPy arrays:\n",
    "\n",
    " - `x`: an array of 30 equally spaced data points on a line space of 0 - 10\n",
    " - `y`: an array representing $sin(x)$"
   ]
  },
  {
   "cell_type": "code",
   "execution_count": 3,
   "metadata": {
    "scrolled": true
   },
   "outputs": [
    {
     "name": "stdout",
     "output_type": "stream",
     "text": [
      "x: [ 0.          0.34482759  0.68965517  1.03448276  1.37931034  1.72413793\n",
      "  2.06896552  2.4137931   2.75862069  3.10344828  3.44827586  3.79310345\n",
      "  4.13793103  4.48275862  4.82758621  5.17241379  5.51724138  5.86206897\n",
      "  6.20689655  6.55172414  6.89655172  7.24137931  7.5862069   7.93103448\n",
      "  8.27586207  8.62068966  8.96551724  9.31034483  9.65517241 10.        ]\n",
      "y: [ 0.          0.33803442  0.6362712   0.85959818  0.98172251  0.9882662\n",
      "  0.87845883  0.6652283   0.37367879  0.03813513 -0.30189827 -0.60638843\n",
      " -0.83948697 -0.9737506  -0.99337213 -0.89604148 -0.69321762 -0.40877952\n",
      " -0.07621478  0.26532292  0.57562349  0.81815446  0.96436206  0.9970329\n",
      "  0.91232056  0.72019844  0.44328555  0.11418355 -0.22836157 -0.54402111]\n"
     ]
    }
   ],
   "source": [
    "# Import numpy to generate some dummy data\n",
    "import numpy as np\n",
    "\n",
    "x = np.linspace(0, 10, 30)\n",
    "y = np.sin(x)\n",
    "\n",
    "print(\"x:\", x)\n",
    "print(\"y:\", y)"
   ]
  },
  {
   "cell_type": "markdown",
   "metadata": {},
   "source": [
    "Well, that's enough numbers that we need a plot to help make sense of it! Let's get started.\n",
    "\n",
    "## Scatter Plots\n",
    "\n",
    "### What Are Scatter Plots?\n",
    "\n",
    "A scatter plot is a two-dimensional data visualization that uses individual data points to represent the values obtained for two different variables - one plotted along the x-axis and the other plotted along the y-axis. \n",
    "\n",
    "Scatter plots are used when you want to show the relationship between two variables. Scatter plots are sometimes called correlation plots because they show how two variables are correlated.\n",
    "\n",
    "### Scatter Plots in Matplotlib\n",
    "\n",
    "The following code shows the simplest possible scatter plot with our `x` and `y` variables, using the `scatter` method ([documentation here](https://matplotlib.org/api/_as_gen/matplotlib.axes.Axes.scatter.html#matplotlib.axes.Axes.scatter)):"
   ]
  },
  {
   "cell_type": "code",
   "execution_count": 5,
   "metadata": {},
   "outputs": [
    {
     "data": {
      "text/plain": [
       "<matplotlib.collections.PathCollection at 0x2bc8c279c70>"
      ]
     },
     "execution_count": 5,
     "metadata": {},
     "output_type": "execute_result"
    },
    {
     "data": {
      "image/png": "[encoded data removed]",
      "text/plain": [
       "<Figure size 432x288 with 1 Axes>"
      ]
     },
     "metadata": {
      "needs_background": "light"
     },
     "output_type": "display_data"
    }
   ],
   "source": [
    "# Create the plot\n",
    "fig, ax = plt.subplots()\n",
    "\n",
    "# Graph X vs. Y as a scatter plot\n",
    "ax.scatter(x, y) # ; at the end suppresses unwanted output and is optional"
   ]
  },
  {
   "cell_type": "markdown",
   "metadata": {},
   "source": [
    "Great! But it's missing a title and labels. We'll get into some more plot customization later, but it's important that **every plot you make** is appropriately labeled.\n",
    "\n",
    "Let's add:\n",
    "\n",
    " - Plot title\n",
    " - Labels for X and Y axes\n",
    " - Legend"
   ]
  },
  {
   "cell_type": "code",
   "execution_count": 6,
   "metadata": {},
   "outputs": [
    {
     "data": {
      "image/png": "[encoded data removed]",
      "text/plain": [
       "<Figure size 432x288 with 1 Axes>"
      ]
     },
     "metadata": {
      "needs_background": "light"
     },
     "output_type": "display_data"
    }
   ],
   "source": [
    "# Create the plot\n",
    "fig, ax = plt.subplots()\n",
    "\n",
    "# Graph X vs. Y as a scatter plot\n",
    "ax.scatter(x, y)\n",
    "\n",
    "# Set title\n",
    "ax.set_title(\"Scatter Plot in Matplotlib\")\n",
    "\n",
    "# Set labels for X and Y axes\n",
    "ax.set_xlabel(\"X Values\")\n",
    "ax.set_ylabel(\"Y Values\")\n",
    "\n",
    "# Set text of legend\n",
    "ax.legend([\"Function: $sin(x)$\"]); # the dollar signs mean this is mathtext: https://matplotlib.org/tutorials/text/mathtext.html"
   ]
  },
  {
   "cell_type": "markdown",
   "metadata": {},
   "source": [
    "The nice thing is labels and other customizations that you see here are applicable to almost all kinds of plots in Matplotlib. \n",
    "\n",
    "## Bar Graphs\n",
    "\n",
    "### What Are Bar Graphs?\n",
    "\n",
    "Bar graphs (also called \"bar charts\") are one of the most common plot types for showing comparisons across data. Bar graphs allow comparisons across categories by presenting categorical data as rectangular bars with heights or lengths proportional to the values that they represent. One axis of the graph shows the specific categories being compared and the other axis represents a value scale. The bars can be plotted vertically or horizontally. When the bars are plotted vertically, it is usually referred to as a \"column graph.\" Some examples of bar graphs are shown below.\n",
    "\n",
    "<img src=\"images/image_bar.png\" width=\"700\">\n",
    "\n",
    "### Bar Graphs in Matplotlib\n",
    "\n",
    "Matplotlib features a number of handy plotting functions. Matplotlib's `.bar()` and `.barh()` functions can be used to draw constant width vertical and constant height horizontal bar graphs for a simple sequence of x, y values. \n",
    "\n",
    "Before coding these graphs, first we'll generate some new `x` and `y` data using functions from the `np.random` module. This is a specialized module within NumPy for generating random numbers. Again, don't worry if the code seems unfamiliar now, `numpy` is not the emphasis of this lesson."
   ]
  },
  {
   "cell_type": "code",
   "execution_count": 7,
   "metadata": {},
   "outputs": [],
   "source": [
    "# Set seed for reproducibility\n",
    "np.random.seed(100)\n",
    "\n",
    "# Generate the x-axis variable as 10 categories using numpy's arange function\n",
    "x = np.arange(10)\n",
    "\n",
    "# For y-axis, generate 10 random quantities\n",
    "height = np.random.randn(10)"
   ]
  },
  {
   "cell_type": "markdown",
   "metadata": {},
   "source": [
    "Now, plot a simple bar graph using the above data and the `.bar()` function ([documentation here](https://matplotlib.org/api/_as_gen/matplotlib.axes.Axes.bar.html#matplotlib.axes.Axes.bar))."
   ]
  },
  {
   "cell_type": "code",
   "execution_count": 8,
   "metadata": {},
   "outputs": [
    {
     "data": {
      "image/png": "[encoded data removed]",
      "text/plain": [
       "<Figure size 432x288 with 1 Axes>"
      ]
     },
     "metadata": {
      "needs_background": "light"
     },
     "output_type": "display_data"
    }
   ],
   "source": [
    "# Create the plot\n",
    "fig, ax = plt.subplots()\n",
    "\n",
    "# Graph X vs height as a bar graph\n",
    "ax.bar(x, height);"
   ]
  },
  {
   "cell_type": "markdown",
   "metadata": {},
   "source": [
    "Again, let's make sure we add appropriate labels:"
   ]
  },
  {
   "cell_type": "code",
   "execution_count": 11,
   "metadata": {},
   "outputs": [
    {
     "data": {
      "image/png": "[encoded data removed]",
      "text/plain": [
       "<Figure size 432x288 with 1 Axes>"
      ]
     },
     "metadata": {
      "needs_background": "light"
     },
     "output_type": "display_data"
    }
   ],
   "source": [
    "# Create the plot\n",
    "fig, ax = plt.subplots()\n",
    "\n",
    "# Graph X vs height as a bar graph\n",
    "ax.bar(x, height)\n",
    "\n",
    "# Set title\n",
    "ax.set_title(\"Bar Graph in Matplotlib\")\n",
    "\n",
    "# Set labels for X and Y axes\n",
    "ax.set_xlabel(\"X Values - Categories\")\n",
    "ax.set_ylabel(\"Y Values - Quantities\")\n",
    "\n",
    "# Set text of legend\n",
    "ax.legend([\"Sample Data\"]);"
   ]
  },
  {
   "cell_type": "markdown",
   "metadata": {},
   "source": [
    "That bar graph above is useful because you can easily inspect the quantities in each category (0-10) and make informed decisions about how data are distributed across these categories. "
   ]
  },
  {
   "cell_type": "markdown",
   "metadata": {},
   "source": [
    "##  Histograms \n",
    "\n",
    "### What Are Histograms?\n",
    "\n",
    "A histogram is a plot that lets you discover the underlying frequency distribution of a data set. It allows you to visualize fundamental properties about the data like if it is skewed in any particular direction or if it has outliers. An example of a histogram of the ages of people is shown below:\n",
    "\n",
    "<img src=\"images/image_histogram.png\" width=\"300\">\n",
    "\n",
    "Basically, histograms are used to represent data that has been split into some number of groups. The x-axis describes the groups and the y-axis describes the frequency of occurrence. If this is a little confusing, consider the histogram of ages above. The x-axis shows ages in groups of 10 years. The y-axis is a count of how many times a member from each group appears in the data. For example, there are 2 occurrences of ages between 20-30.\n",
    "\n",
    "It is important to distinguish bar graphs from histograms. Bar graphs show category-specific values and consist of two variables. Histograms show counts of how frequently a given range of values occurs in a data set. Take a look at the examples below and think about how they are different: \n",
    "\n",
    "<br>\n",
    "<img src=\"images/image_bar_hist.png\" width=\"700\">\n",
    "<br>\n",
    "\n",
    "### Histograms in Matplotlib\n",
    "\n",
    "You can use the `.hist()` function in Matplotlib to draw a histogram while passing in values from the required data variable. Say you want to plot a histogram of the retirement ages of 200 people. First we'll generate some dummy data:"
   ]
  },
  {
   "cell_type": "code",
   "execution_count": 12,
   "metadata": {},
   "outputs": [],
   "source": [
    "# Set seed for reproducability\n",
    "np.random.seed(100)\n",
    "\n",
    "# Generate a data set of 200 retirement age values\n",
    "x = 5*np.random.randn(200) + 65"
   ]
  },
  {
   "cell_type": "markdown",
   "metadata": {},
   "source": [
    "Notice that we did not generate a `y` or `height` value here. A histogram represents the distribution of a *single variable*, unlike scatter plots and bar graphs which represent information about *two related sets of variables*.\n",
    "\n",
    "Now let's plot the histogram ([documentation here](https://matplotlib.org/api/_as_gen/matplotlib.axes.Axes.hist.html#matplotlib.axes.Axes.hist)):"
   ]
  },
  {
   "cell_type": "code",
   "execution_count": 13,
   "metadata": {},
   "outputs": [
    {
     "data": {
      "image/png": "[encoded data removed]",
      "text/plain": [
       "<Figure size 432x288 with 1 Axes>"
      ]
     },
     "metadata": {
      "needs_background": "light"
     },
     "output_type": "display_data"
    }
   ],
   "source": [
    "# Create the plot\n",
    "fig, ax = plt.subplots()\n",
    "\n",
    "# Graph the distribution of X\n",
    "ax.hist(x);"
   ]
  },
  {
   "cell_type": "markdown",
   "metadata": {},
   "source": [
    "Again, let's add labels:"
   ]
  },
  {
   "cell_type": "code",
   "execution_count": 14,
   "metadata": {
    "scrolled": true
   },
   "outputs": [
    {
     "data": {
      "image/png": "[encoded data removed]",
      "text/plain": [
       "<Figure size 432x288 with 1 Axes>"
      ]
     },
     "metadata": {
      "needs_background": "light"
     },
     "output_type": "display_data"
    }
   ],
   "source": [
    "# Create the plot\n",
    "fig, ax = plt.subplots()\n",
    "\n",
    "# Graph the distribution of X\n",
    "ax.hist(x)\n",
    "\n",
    "# Set title\n",
    "ax.set_title(\"Histogram in Matplotlib\")\n",
    "\n",
    "# Set labels for X and Y axes\n",
    "ax.set_xlabel(\"Retirement Age\")\n",
    "ax.set_ylabel(\"Frequency of Values\");"
   ]
  },
  {
   "cell_type": "markdown",
   "metadata": {},
   "source": [
    "Recall, the y-axis tells you how often a certain range of numbers appears in the data set. From the histogram (interpreting these dummy numbers as though they were real), you can see that there are a lot of people who retire around 65. There are a quarter as many people who retire at 75 compared to 65 (10 vs. 40 people) and even fewer who retire at 50 (2 people).\n",
    "\n",
    "### Customizing Histograms: The `bins` Argument\n",
    "\n",
    "We will cover much more about customizing plots later, but for now there is one key customization specific to histograms: the `bins` argument.\n",
    "\n",
    "In the plot above, there are 10 bins (groups) of ages represented. It's clearer to see if we set the `edgecolor` argument:"
   ]
  },
  {
   "cell_type": "code",
   "execution_count": 15,
   "metadata": {},
   "outputs": [
    {
     "data": {
      "image/png": "[encoded data removed]",
      "text/plain": [
       "<Figure size 432x288 with 1 Axes>"
      ]
     },
     "metadata": {
      "needs_background": "light"
     },
     "output_type": "display_data"
    }
   ],
   "source": [
    "# Create the plot\n",
    "fig, ax = plt.subplots()\n",
    "\n",
    "# Graph the distribution of X with black edges\n",
    "ax.hist(x, edgecolor=\"black\")\n",
    "\n",
    "# Set title\n",
    "ax.set_title(\"Histogram in Matplotlib\")\n",
    "\n",
    "# Set labels for X and Y axes\n",
    "ax.set_xlabel(\"Retirement Age\")\n",
    "ax.set_ylabel(\"Frequency of Values\");"
   ]
  },
  {
   "cell_type": "markdown",
   "metadata": {},
   "source": [
    "Check out what happens when you change the number of bins to 5:"
   ]
  },
  {
   "cell_type": "code",
   "execution_count": 16,
   "metadata": {},
   "outputs": [
    {
     "data": {
      "image/png": "[encoded data removed]",
      "text/plain": [
       "<Figure size 432x288 with 1 Axes>"
      ]
     },
     "metadata": {
      "needs_background": "light"
     },
     "output_type": "display_data"
    }
   ],
   "source": [
    "# Create the plot\n",
    "fig, ax = plt.subplots()\n",
    "\n",
    "# Graph the distribution of X with black edges and 5 bins\n",
    "ax.hist(x, edgecolor=\"black\", bins=5)\n",
    "\n",
    "# Set title\n",
    "ax.set_title(\"Histogram in Matplotlib\")\n",
    "\n",
    "# Set labels for X and Y axes\n",
    "ax.set_xlabel(\"Retirement Age\")\n",
    "ax.set_ylabel(\"Frequency of Values\");"
   ]
  },
  {
   "cell_type": "markdown",
   "metadata": {},
   "source": [
    "Note the scale of the y-axis and the width of the bars compared to the histogram using 10 bins. The granularity of the bins can be changed according to your specific analytical needs and the amount of data available. For example, if you had 50 data points, you would not want to use 500 bins.  \n",
    "\n",
    "For the final example, say you got a much larger data set of 10000 retirement ages."
   ]
  },
  {
   "cell_type": "code",
   "execution_count": 17,
   "metadata": {},
   "outputs": [
    {
     "data": {
      "image/png": "[encoded data removed]",
      "text/plain": [
       "<Figure size 432x288 with 1 Axes>"
      ]
     },
     "metadata": {
      "needs_background": "light"
     },
     "output_type": "display_data"
    }
   ],
   "source": [
    "# Generate a data set of 10000 retirement age values\n",
    "np.random.seed(100)\n",
    "x = 5*np.random.randn(10000) + 65\n",
    "\n",
    "# Plot the histogram with black edges and 50 bins\n",
    "fig, ax = plt.subplots()\n",
    "ax.hist(x, edgecolor=\"black\", bins=50)\n",
    "\n",
    "ax.set_title(\"Histogram in Matplotlib\")\n",
    "ax.set_xlabel(\"Retirement Age\")\n",
    "ax.set_ylabel(\"Frequency of Values\");"
   ]
  },
  {
   "cell_type": "markdown",
   "metadata": {},
   "source": [
    "Notice that the shape of the distribution begins to look more bell-shaped as the size of the data set increases. This is characteristic of an important distribution known as the \"Normal\" distribution which you will learn more about later.\n",
    "\n",
    "\n",
    "## Summary\n",
    "\n",
    "In this lesson, you learned how to use Matplotlib's basic plotting techniques to visually describe your data as scatter plots, bar graphs, and histograms. You also identified use cases for each of these techniques and learned how to add basic details to a plot. "
   ]
  }
 ],
 "metadata": {
  "kernelspec": {
   "display_name": "Python 3",
   "language": "python",
   "name": "python3"
  },
  "language_info": {
   "codemirror_mode": {
    "name": "ipython",
    "version": 3
   },
   "file_extension": ".py",
   "mimetype": "text/x-python",
   "name": "python",
   "nbconvert_exporter": "python",
   "pygments_lexer": "ipython3",
   "version": "3.8.5"
  }
 },
 "nbformat": 4,
 "nbformat_minor": 2
}
